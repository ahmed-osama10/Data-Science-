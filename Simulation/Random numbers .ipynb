{
  "nbformat": 4,
  "nbformat_minor": 0,
  "metadata": {
    "colab": {
      "provenance": []
    },
    "kernelspec": {
      "name": "python3",
      "display_name": "Python 3"
    },
    "language_info": {
      "name": "python"
    }
  },
  "cells": [
    {
      "cell_type": "code",
      "execution_count": 27,
      "metadata": {
        "colab": {
          "base_uri": "https://localhost:8080/"
        },
        "id": "MWpSjlYGHAFp",
        "outputId": "448b253e-ae35-41c3-93d7-634a5d6b9ae0"
      },
      "outputs": [
        {
          "output_type": "stream",
          "name": "stdout",
          "text": [
            "step:   1    Random_Number :   6    Direction:    L       X Coordinate :  -1         Y Coordinate :  0\n",
            "step:   2    Random_Number :   2    Direction:    F       X Coordinate :  -1         Y Coordinate :  1\n",
            "step:   3    Random_Number :   0    Direction:    F       X Coordinate :  -1         Y Coordinate :  2\n",
            "step:   4    Random_Number :   6    Direction:    L       X Coordinate :  -2         Y Coordinate :  2\n",
            "step:   5    Random_Number :   8    Direction:    R       X Coordinate :  -1         Y Coordinate :  2\n",
            "step:   6    Random_Number :   5    Direction:    L       X Coordinate :  -2         Y Coordinate :  2\n",
            "step:   7    Random_Number :   7    Direction:    L       X Coordinate :  -3         Y Coordinate :  2\n",
            "step:   8    Random_Number :   7    Direction:    L       X Coordinate :  -4         Y Coordinate :  2\n",
            "step:   9    Random_Number :   9    Direction:    R       X Coordinate :  -3         Y Coordinate :  2\n",
            "step:   10    Random_Number :   8    Direction:    R       X Coordinate :  -2         Y Coordinate :  2\n",
            "step:   11    Random_Number :   4    Direction:    F       X Coordinate :  -2         Y Coordinate :  3\n",
            "step:   12    Random_Number :   8    Direction:    R       X Coordinate :  -1         Y Coordinate :  3\n",
            "step:   13    Random_Number :   2    Direction:    F       X Coordinate :  -1         Y Coordinate :  4\n",
            "step:   14    Random_Number :   6    Direction:    L       X Coordinate :  -2         Y Coordinate :  4\n",
            "step:   15    Random_Number :   2    Direction:    F       X Coordinate :  -2         Y Coordinate :  5\n",
            "step:   16    Random_Number :   1    Direction:    F       X Coordinate :  -2         Y Coordinate :  6\n",
            "step:   17    Random_Number :   3    Direction:    F       X Coordinate :  -2         Y Coordinate :  7\n",
            "step:   18    Random_Number :   9    Direction:    R       X Coordinate :  -1         Y Coordinate :  7\n",
            "step:   19    Random_Number :   8    Direction:    R       X Coordinate :  0         Y Coordinate :  7\n",
            "step:   20    Random_Number :   4    Direction:    F       X Coordinate :  0         Y Coordinate :  8\n"
          ]
        }
      ],
      "source": [
        "from numpy import cumsum\n",
        "\n",
        "def select_directions(directions:list, probs:list, r):\n",
        "    \"\"\"This function take Directions ,their probabilities and random number, then map it to direction\"\"\"\n",
        "    cum_sum = cumsum(probs)*10 # Make cummulative random numbers decimal number \n",
        "    cum_sum = list(map(int, cum_sum))  # give cummulative RN \n",
        "    i = 0\n",
        "    while i < len(directions):\n",
        "        if (i == 0) and (r < cum_sum[i]):\n",
        "            return directions[i]\n",
        "        elif (r >= cum_sum[i-1]) and (r < cum_sum[i]):\n",
        "            return directions[i]\n",
        "        elif (i == len(directions)-1) and (r >= cum_sum[i]):\n",
        "            print(\"Enter Valid Number\")\n",
        "            break\n",
        "        i += 1\n",
        "# TAKE Random number and give us it's direction \n",
        "\n",
        "Random_Numbers = [6, 2, 0, 6, 8, 5, 7, 7, 9, 8, 4, 8, 2, 6, 2, 1, 3, 9, 8, 4] # from example \n",
        "probs = [0.5, 0.3, 0.2] # Prob 50% , 30% , 20% \n",
        "directions = [\"F\", \"L\", \"R\"] # refer to right , left , forward \n",
        "steps = [] # number of steps \n",
        "for r in Random_Numbers:\n",
        "    steps.append(select_directions(directions, probs, r))\n",
        "x, y = 0, 0\n",
        "counter = 0\n",
        "x_coordinate = []\n",
        "y_coordinate = []\n",
        "\n",
        "for step in steps:\n",
        "    if step == \"L\":\n",
        "        x -= 1\n",
        "    elif step == \"R\":\n",
        "        x += 1\n",
        "    elif step == \"F\":\n",
        "        y += 1\n",
        "    x_coordinate.append(x) # The append() method appends x to the end of the list\n",
        "    y_coordinate.append(y) # The append() method appends y to the end of the list.\n",
        "    print(\"step: \", \"\" , counter+1, \" \", \" Random_Number :\",\" \", Random_Numbers[counter], \" \", \" Direction: \", \" \",step ,\"    \", \" X Coordinate : \", x,\"      \",  \" Y Coordinate : \", y)\n",
        "    counter += 1"
      ]
    }
  ]
}