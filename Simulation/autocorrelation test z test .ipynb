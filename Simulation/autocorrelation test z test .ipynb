{
  "nbformat": 4,
  "nbformat_minor": 0,
  "metadata": {
    "colab": {
      "provenance": []
    },
    "kernelspec": {
      "name": "python3",
      "display_name": "Python 3"
    },
    "language_info": {
      "name": "python"
    }
  },
  "cells": [
    {
      "cell_type": "code",
      "execution_count": 12,
      "metadata": {
        "colab": {
          "base_uri": "https://localhost:8080/"
        },
        "id": "i14u1pu6vv-_",
        "outputId": "68686c33-ae95-4b04-f12e-c71f5cb9f6c7"
      },
      "outputs": [
        {
          "output_type": "stream",
          "name": "stdout",
          "text": [
            "z_0 =  -1.52\n",
            "z_c = 1.96\n",
            "Assumption : hypothesis is not rejected , can't reject H0\n"
          ]
        }
      ],
      "source": [
        "import numpy as np\n",
        "import scipy.stats as stat\n",
        "#Test for Autocorrelation \n",
        "# i=3 order of the first number , m= 5  jump , N=30  total tested numbers . , muo =4 \n",
        "# i +(M+1)m <= N to find muo , muo = 4.4 , try to find nearest number for muo \n",
        "#a = 0.05, level of significance  \n",
        "def z_auto_corr(r: list, i: int, m: int, alpha: float):\n",
        "    N = len(r) # N =30 \n",
        "    M = (N - m - i) // m # muo 3+(M+1)5 <=30 --> M <= 4.4\n",
        "    nums_indx = [*range(i, N, m)] \n",
        "    test_nums = np.array(r)[nums_indx] \n",
        "    p_hat = (1 / (M + 1)) * sum(test_nums[:-1] * test_nums[1:]) - 0.25 # to find pim^ \n",
        "    sigma_hat = (13 * M + 7) ** 0.5 / (12 * (M + 1))    #to find sigma im^ \n",
        "    z_0 = p_hat / sigma_hat # to find ZO\n",
        "    print(\"z_0 = \", round(z_0,2))\n",
        "    z_c = stat.norm.ppf(1 - alpha / 2)  # this find z alpha /2 \n",
        "    print(\"z_c =\",round(z_c,2))\n",
        "    return \"Assumption : hypothesis is not rejected , can't reject H0\" if z_0 > -z_c or z_0 < z_c else \"Assumption : hypothesis is rejected , Reject H0\"\n",
        "\n",
        "#Test the autocorrelation of 3rd, 8th, 13th, and so on, for the following output.\n",
        "r = [0.12, 0.01, 0.23, 0.28, 0.89, 0.31, 0.64, 0.28, 0.83, 0.93,\n",
        "     0.99, 0.15, 0.33, 0.35, 0.91, 0.41, 0.60, 0.27, 0.75, 0.88,\n",
        "     0.68, 0.49, 0.05, 0.43, 0.95, 0.58, 0.19, 0.36, 0.69, 0.87]\n",
        "\n",
        "print(z_auto_corr(r, 2, 5, 0.05))"
      ]
    }
  ]
}