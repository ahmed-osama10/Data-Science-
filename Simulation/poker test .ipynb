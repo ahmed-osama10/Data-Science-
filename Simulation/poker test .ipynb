{
  "nbformat": 4,
  "nbformat_minor": 0,
  "metadata": {
    "colab": {
      "provenance": []
    },
    "kernelspec": {
      "name": "python3",
      "display_name": "Python 3"
    },
    "language_info": {
      "name": "python"
    }
  },
  "cells": [
    {
      "cell_type": "code",
      "execution_count": 3,
      "metadata": {
        "colab": {
          "base_uri": "https://localhost:8080/",
          "height": 356
        },
        "id": "JlpARyEP_8wA",
        "outputId": "d32a39e8-5af4-4464-83a9-dd2afaec78ca"
      },
      "outputs": [
        {
          "output_type": "error",
          "ename": "FileNotFoundError",
          "evalue": "ignored",
          "traceback": [
            "\u001b[0;31m---------------------------------------------------------------------------\u001b[0m",
            "\u001b[0;31mFileNotFoundError\u001b[0m                         Traceback (most recent call last)",
            "\u001b[0;32m<ipython-input-3-456918748b1e>\u001b[0m in \u001b[0;36m<module>\u001b[0;34m\u001b[0m\n\u001b[1;32m     68\u001b[0m \u001b[0;34m\u001b[0m\u001b[0m\n\u001b[1;32m     69\u001b[0m \u001b[0;32mif\u001b[0m \u001b[0m__name__\u001b[0m \u001b[0;34m==\u001b[0m \u001b[0;34m\"__main__\"\u001b[0m\u001b[0;34m:\u001b[0m\u001b[0;34m\u001b[0m\u001b[0;34m\u001b[0m\u001b[0m\n\u001b[0;32m---> 70\u001b[0;31m     \u001b[0mvalues\u001b[0m\u001b[0;34m=\u001b[0m\u001b[0mreadValues\u001b[0m\u001b[0;34m(\u001b[0m\u001b[0;34m)\u001b[0m\u001b[0;34m\u001b[0m\u001b[0;34m\u001b[0m\u001b[0m\n\u001b[0m\u001b[1;32m     71\u001b[0m     \u001b[0mstats_for_hands\u001b[0m\u001b[0;34m=\u001b[0m\u001b[0mevaluateHand\u001b[0m\u001b[0;34m(\u001b[0m\u001b[0mvalues\u001b[0m\u001b[0;34m)\u001b[0m\u001b[0;34m\u001b[0m\u001b[0;34m\u001b[0m\u001b[0m\n\u001b[1;32m     72\u001b[0m     \u001b[0mprint_stats\u001b[0m\u001b[0;34m(\u001b[0m\u001b[0mstats_for_hands\u001b[0m\u001b[0;34m)\u001b[0m\u001b[0;34m\u001b[0m\u001b[0;34m\u001b[0m\u001b[0m\n",
            "\u001b[0;32m<ipython-input-3-456918748b1e>\u001b[0m in \u001b[0;36mreadValues\u001b[0;34m()\u001b[0m\n\u001b[1;32m      2\u001b[0m \u001b[0;34m\u001b[0m\u001b[0m\n\u001b[1;32m      3\u001b[0m \u001b[0;32mdef\u001b[0m \u001b[0mreadValues\u001b[0m\u001b[0;34m(\u001b[0m\u001b[0;34m)\u001b[0m\u001b[0;34m:\u001b[0m\u001b[0;34m\u001b[0m\u001b[0;34m\u001b[0m\u001b[0m\n\u001b[0;32m----> 4\u001b[0;31m     \u001b[0;32mwith\u001b[0m \u001b[0mopen\u001b[0m\u001b[0;34m(\u001b[0m\u001b[0;34m\"numbers.csv\"\u001b[0m\u001b[0;34m,\u001b[0m \u001b[0;34m'r'\u001b[0m\u001b[0;34m)\u001b[0m \u001b[0;32mas\u001b[0m \u001b[0mcsvfile\u001b[0m\u001b[0;34m:\u001b[0m\u001b[0;34m\u001b[0m\u001b[0;34m\u001b[0m\u001b[0m\n\u001b[0m\u001b[1;32m      5\u001b[0m         \u001b[0mfile\u001b[0m \u001b[0;34m=\u001b[0m \u001b[0mcsv\u001b[0m\u001b[0;34m.\u001b[0m\u001b[0mreader\u001b[0m\u001b[0;34m(\u001b[0m\u001b[0mcsvfile\u001b[0m\u001b[0;34m)\u001b[0m\u001b[0;34m\u001b[0m\u001b[0;34m\u001b[0m\u001b[0m\n\u001b[1;32m      6\u001b[0m         \u001b[0mreturned\u001b[0m \u001b[0;34m=\u001b[0m \u001b[0;34m[\u001b[0m\u001b[0;34m]\u001b[0m\u001b[0;34m\u001b[0m\u001b[0;34m\u001b[0m\u001b[0m\n",
            "\u001b[0;31mFileNotFoundError\u001b[0m: [Errno 2] No such file or directory: 'numbers.csv'"
          ]
        }
      ],
      "source": [
        "import csv\n",
        "\n",
        "def readValues():\n",
        "    with open(\"numbers.csv\", 'r') as csvfile:\n",
        "        file = csv.reader(csvfile)\n",
        "        returned = []\n",
        "\n",
        "        for number_line in file:\n",
        "            for number in number_line:\n",
        "                if (len(number)<5): #Used to weed out \"non-poker hands\"\n",
        "                    #print(number)\n",
        "                    continue\n",
        "                returned.append(list(number))\n",
        "    return returned\n",
        "\n",
        "def evaluateHand(values):\n",
        "    returned=[]\n",
        "    for numbers in values:\n",
        "        dictionary = {}\n",
        "        for number in numbers:\n",
        "            if (number in dictionary):\n",
        "                dictionary[number]= int(dictionary[number]) +1\n",
        "            else:\n",
        "                dictionary.update({number:0})\n",
        "\n",
        "        returned.append(something(dictionary))\n",
        "    return returned\n",
        "\n",
        "def something(dictionary):\n",
        "    if (len(dictionary)== 5):\n",
        "        return \"Five different.\"\n",
        "    elif (len(dictionary)== 4):\n",
        "        return \"Exactly one pair.\"\n",
        "    elif (len(dictionary)== 3):\n",
        "        if (3 in dictionary.values()):\n",
        "            return \"Exactly three of a kind.\"\n",
        "        else:\n",
        "            return \"Exactly two pairs.\"\n",
        "    elif (len(dictionary)==2):\n",
        "        if (4 in dictionary.values()):\n",
        "            return \"Four of a kind.\"\n",
        "        else:\n",
        "            return \"Three of a kind plus one pair.\"\n",
        "    else:\n",
        "        #The dictionary only contains one mapping\n",
        "        return \"Five of a kind.\"\n",
        "\n",
        "def print_stats(stats_for_hands):\n",
        "    five_different = list(filter(lambda x: x == \"Five different.\", stats_for_hands))\n",
        "    one_pair = list(filter(lambda x: x == \"Exactly one pair.\", stats_for_hands))\n",
        "    three_of_a_kind = list(filter(lambda x: x == \"Exactly three of a kind.\", stats_for_hands))\n",
        "    two_pair = list(filter(lambda x: x == \"Exactly two pairs.\", stats_for_hands))\n",
        "    four_of_a_kind = list(filter(lambda x: x == \"Four of a kind.\", stats_for_hands))\n",
        "    three_of_a_kind_and_pair = list(filter(lambda x: x == \"Three of a kind plus one pair.\", stats_for_hands))\n",
        "    five_of_a_kind = list(filter(lambda x: x == \"Five of a kind.\", stats_for_hands))\n",
        "\n",
        "    print(\"We have \"+str(len(five_different))+\" numbers where you have five different values.\")\n",
        "    print(\"We have \"+str(len(one_pair)) + \" numbers where you have exactly one pair.\")\n",
        "    print(\"We have \" + str(len(two_pair)) + \" numbers where you have exactly two pair.\")\n",
        "    print(\"We have \" + str(len(three_of_a_kind)) + \" numbers where you have exactly three of a kind.\")\n",
        "    print(\"We have \" + str(len(three_of_a_kind_and_pair)) + \" numbers where you have exactly three of a kind and a pair.\")\n",
        "    print(\"We have \" + str(len(four_of_a_kind)) + \" numbers where you have exactly four of a kind.\")\n",
        "    print(\"We have \" + str(len(five_of_a_kind)) + \" numbers where you have exactly five of a kind.\")\n",
        "\n",
        "\n",
        "\n",
        "\n",
        "\n",
        "if __name__ == \"__main__\":\n",
        "    values=readValues()\n",
        "    stats_for_hands=evaluateHand(values)\n",
        "    print_stats(stats_for_hands)"
      ]
    }
  ]
}