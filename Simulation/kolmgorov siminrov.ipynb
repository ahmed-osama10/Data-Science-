{
  "nbformat": 4,
  "nbformat_minor": 0,
  "metadata": {
    "colab": {
      "provenance": []
    },
    "kernelspec": {
      "name": "python3",
      "display_name": "Python 3"
    },
    "language_info": {
      "name": "python"
    }
  },
  "cells": [
    {
      "cell_type": "code",
      "execution_count": 4,
      "metadata": {
        "colab": {
          "base_uri": "https://localhost:8080/"
        },
        "id": "zKCe-Y6WqJat",
        "outputId": "5bb698ab-ffc2-4bd3-f889-5edf7d96d3f1"
      },
      "outputs": [
        {
          "output_type": "stream",
          "name": "stdout",
          "text": [
            "sorted random numbers = [0.11, 0.23, 0.24, 0.41, 0.5, 0.61, 0.64, 0.65, 0.86, 0.89]\n",
            "F(x) = [0.11, 0.23, 0.24, 0.41, 0.5, 0.61, 0.64, 0.65, 0.86, 0.89]\n",
            "SN(x) =[0.1, 0.2, 0.3, 0.4, 0.5, 0.6, 0.7, 0.8, 0.9, 1.0]\n",
            "|SN(x) - F(x)| = [0.01, 0.03, 0.06, 0.01, 0.0, 0.01, 0.06, 0.15, 0.04, 0.11]\n",
            "maxValue = 0.15\n",
            "Decision : don't reject H0 because maxValue < D_alpha \n"
          ]
        }
      ],
      "source": [
        "#Kolmogorov-Smirnov Test\t[uniformity (frequency) Test]\n",
        "#Example: Suppose 10 generated numbers: R(i) are 0.24,0.89,0.11,0.61,0.23,0.86,0.41,0.64,0.50,0.65 \n",
        "# H_alpha : uniform  , H0 : not uniform \n",
        "import numpy as np\n",
        "random_numbers = [0.24,0.89,0.11,0.61,0.23,0.86,0.41,0.64,0.50,0.65]\n",
        "random_numbers.sort()                      # first step is to arrange from smallest to greatest \n",
        "print(\"sorted random numbers = \" + str(random_numbers))\n",
        "Fx= random_numbers\n",
        "print(\"F(x) = \" + str(Fx))                 #second step is to apply function in random numbers  F(x)\n",
        "SNx=[]\n",
        "i = 0.1\n",
        "while i <= 1:\n",
        "  SNx.append(i) \n",
        "  i += 0.1\n",
        "  i = round(i , 1) \n",
        "print(\"SN(x) =\" + str(SNx))                    # third step is to find SN(x) \n",
        "# Subtract two lists with numpy\n",
        "array1 = np.array(Fx)\n",
        "array2 = np.array(SNx)\n",
        "subtracted_array = np.subtract(array1, array2) # fourth step is to find |SN(x) - F(x)|\n",
        "SNx_Fx = list(subtracted_array)\n",
        "snx_Fx = list()\n",
        "for value in SNx_Fx:\n",
        "    absolute = abs(value)\n",
        "    snx_Fx.append(absolute)\n",
        "\n",
        "#round all the numbers in list \n",
        "SNx_FX= [round(num, 2) for num in snx_Fx]\n",
        "\n",
        "print(\"|SN(x) - F(x)| = \" + str(SNx_FX))  \n",
        "maxValue = max(snx_Fx)\n",
        "print(\"maxValue =\",round(maxValue,2))\n",
        "D_alpha=0.565  # with alpha=0.95\n",
        "if maxValue > D_alpha:\n",
        "  print(\"Decision : reject H0 because maxValue > D_alpha \")\n",
        "else:\n",
        "  print(\"Decision : don't reject H0 because maxValue < D_alpha \")"
      ]
    }
  ]
}