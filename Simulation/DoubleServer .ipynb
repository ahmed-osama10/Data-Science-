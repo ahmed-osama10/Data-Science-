{
  "cells": [
    {
      "cell_type": "code",
      "execution_count": 1,
      "metadata": {
        "id": "a9WdXYH4Gp3R"
      },
      "outputs": [],
      "source": [
        "import numpy as np"
      ],
      "id": "a9WdXYH4Gp3R"
    },
    {
      "cell_type": "code",
      "execution_count": 2,
      "metadata": {
        "id": "YddD4YkHGp3Z"
      },
      "outputs": [],
      "source": [
        "arr = {\"Customer Order\": [1,2,3,4,5,6,7,8,9,10,11,12,13,14,15,16,17,18,19,20,21,22,23,24] , \n",
        "         \"RIAT\": [0,94,73,70,82,25,35,61,42,48,26,88,31,90,55,95,58,70,15,73,65,74,75,98] , \n",
        "         \"IAT\": [] , \"Clock\": [] , \n",
        "         \"RST\": [32,96,89,32,67,48,63,99,98,66,85,58,6,39,15,2,48,63,85,61,40,16,18,52] ,\n",
        "         \"Able ST Begins\": [] , \"Able ST\": [], \"Able ST Ends\": [], \"Baker ST Begins\": [],\"Baker ST\": [],\n",
        "         \"Baker ST Ends\": [], \"Queuing\": [0],\n",
        "         \"Time Spend in System\": [], \"Able Idle\": [], \"Baker Idle\": []}\n",
        "\n",
        "IA = {1: [A for A in range(0,25)], 2: [A for A in range(25,65)], 3: [A for A in range(65,85)],\n",
        "                 4: [A for A in range(85,100)]}\n",
        "\n",
        "BakerST = {2: [A for A in range(0,30)], 3: [A for A in range(30,58)], 4: [A for A in range(58,83)],\n",
        "                 5: [A for A in range(83,100)]}\n",
        "\n",
        "AbleST = {2: [A for A in range(0,35)], 3: [A for A in range(35,60)], 4: [A for A in range(60,80)],\n",
        "                 5: [A for A in range(80,100)]}"
      ],
      "id": "YddD4YkHGp3Z"
    },
    {
      "cell_type": "code",
      "execution_count": 3,
      "metadata": {
        "id": "IxpM3RSoGp3d"
      },
      "outputs": [],
      "source": [
        "def IATClock(arr, IA, i):\n",
        "    if i == 0:\n",
        "        arr[\"Clock\"].append(0)\n",
        "        arr[\"IAT\"].append(0)\n",
        "    else:\n",
        "        if arr[\"RIAT\"][i] in IA[1]:\n",
        "            arr[\"IAT\"].append(1)\n",
        "        elif arr[\"RIAT\"][i] in IA[2]:\n",
        "            arr[\"IAT\"].append(2)\n",
        "        elif arr[\"RIAT\"][i] in IA[3]:\n",
        "            arr[\"IAT\"].append(3)\n",
        "        else:\n",
        "            arr[\"IAT\"].append(4)\n",
        "        CurrentClock = arr[\"Clock\"][-1] + arr[\"IAT\"][i]\n",
        "        arr[\"Clock\"].append(CurrentClock)\n",
        "    return arr"
      ],
      "id": "IxpM3RSoGp3d"
    },
    {
      "cell_type": "code",
      "execution_count": 4,
      "metadata": {
        "id": "vNxirZRuGp3f"
      },
      "outputs": [],
      "source": [
        "def BakerOrAble(arr):\n",
        "    if len(arr[\"Able ST Ends\"]) == 0:\n",
        "        return 1 \n",
        "    elif len(arr[\"Baker ST Ends\"]) == 0:\n",
        "        if (arr[\"Clock\"][-1] - arr[\"Able ST Ends\"][-1]) < 0:\n",
        "            return 0 \n",
        "        else:\n",
        "            return 1 \n",
        "    elif arr[\"Able ST Ends\"][-1] <= arr[\"Clock\"][-1] or (arr[\"Able ST Ends\"][-1] <= arr[\"Baker ST Ends\"][-1]):\n",
        "        return 1\n",
        "    else:\n",
        "        return 0"
      ],
      "id": "vNxirZRuGp3f"
    },
    {
      "cell_type": "code",
      "execution_count": 5,
      "metadata": {
        "id": "4XKqDn8VGp3g"
      },
      "outputs": [],
      "source": [
        "TotalTime = 0\n",
        "i = 0\n",
        "while (TotalTime <= 60):\n",
        "    arr = IATClock(arr, IA, i)\n",
        "    Result = BakerOrAble(arr)\n",
        "    if Result == 1:\n",
        "        if len(arr[\"Baker ST Ends\"]) == 0:\n",
        "            arr[\"Baker ST Begins\"].append(arr[\"Clock\"][-1])\n",
        "        elif arr[\"Clock\"][-1] > arr[\"Baker ST Ends\"][-1]:\n",
        "            arr[\"Baker ST Begins\"].append(arr[\"Clock\"][-1])\n",
        "        else:\n",
        "            arr[\"Baker ST Begins\"].append(arr[\"Baker ST Ends\"][-1])\n",
        "        if arr[\"RST\"][i] in BakerST[2]:\n",
        "            arr[\"Baker ST\"].append(2)\n",
        "        elif  arr[\"RST\"][i] in BakerST[3]:\n",
        "            arr[\"Baker ST\"].append(3)\n",
        "        elif arr[\"RST\"][i] in BakerST[4]:\n",
        "            arr[\"Baker ST\"].append(4)\n",
        "        elif arr[\"RST\"][i] in BakerST[5]:\n",
        "            arr[\"Baker ST\"].append(5)\n",
        "        arr[\"Baker ST Ends\"].append(arr[\"Baker ST Begins\"][-1] + arr[\"Baker ST\"][-1])\n",
        "        arr[\"Queuing\"].append(arr[\"Baker ST Begins\"][-1] - arr[\"Clock\"][-1])\n",
        "        arr[\"Time Spend in System\"].append(arr[\"Baker ST\"][-1] + arr[\"Queuing\"][-1])\n",
        "        if len(arr[\"Baker ST Ends\"]) == 1:\n",
        "            arr[\"Baker Idle\"].append(arr[\"Clock\"][-1])\n",
        "        else:\n",
        "            arr[\"Baker Idle\"].append(max(arr[\"Clock\"][-1] - arr[\"Baker ST Ends\"][-2],0))\n",
        "    else:\n",
        "        if len(arr[\"Able ST Ends\"]) == 0:\n",
        "            arr[\"Able ST Begins\"].append(arr[\"Clock\"][-1])\n",
        "        elif arr[\"Clock\"][-1] > arr[\"Able ST Ends\"][-1]:\n",
        "            arr[\"Able ST Begins\"].append(arr[\"Clock\"][-1])\n",
        "        else:\n",
        "            arr[\"Able ST Begins\"].append(arr[\"Able ST Ends\"][-1])\n",
        "        if arr[\"RST\"][i] in AbleST[2]:\n",
        "            arr[\"Able ST\"].append(2)\n",
        "        elif arr[\"RST\"][i] in AbleST[3]:\n",
        "            arr[\"Able ST\"].append(3)\n",
        "        elif arr[\"RST\"][i] in AbleST[4]:\n",
        "            arr[\"Able ST\"].append(4)\n",
        "        else:\n",
        "            arr[\"Able ST\"].append(5)\n",
        "        arr[\"Able ST Ends\"].append(arr[\"Able ST Begins\"][-1] + arr[\"Able ST\"][-1])\n",
        "        arr[\"Queuing\"].append(arr[\"Able ST Begins\"][-1] - arr[\"Clock\"][-1])\n",
        "        arr[\"Time Spend in System\"].append(arr[\"Able ST\"][-1] + arr[\"Queuing\"][-1])\n",
        "        if len(arr[\"Able ST Ends\"]) == 1:\n",
        "            arr[\"Able Idle\"].append(arr[\"Clock\"][-1])\n",
        "        else:\n",
        "            arr[\"Able Idle\"].append(max(arr[\"Clock\"][-1] - arr[\"Able ST Ends\"][-2] , 0))\n",
        "    i += 1\n",
        "    TotalTime = arr[\"Clock\"][-1]"
      ],
      "id": "4XKqDn8VGp3g"
    },
    {
      "cell_type": "code",
      "execution_count": 6,
      "metadata": {
        "colab": {
          "base_uri": "https://localhost:8080/"
        },
        "id": "jIesxRqWGp3n",
        "outputId": "30b38d7f-cbc4-431c-a845-407c570196da"
      },
      "outputs": [
        {
          "output_type": "stream",
          "name": "stdout",
          "text": [
            "Baker Service Time Begins : [0, 4, 9, 14, 17, 21, 24, 28, 33, 38, 42, 47, 51, 53, 56, 58, 60, 63, 67, 72, 76, 79, 81, 83]\n",
            "Baker Service Time : [3, 5, 5, 3, 4, 3, 4, 5, 5, 4, 5, 4, 2, 3, 2, 2, 3, 4, 5, 4, 3, 2, 2, 3]\n",
            "Baker Service Time Ends : [3, 9, 14, 17, 21, 24, 28, 33, 38, 42, 47, 51, 53, 56, 58, 60, 63, 67, 72, 76, 79, 81, 83, 86]\n"
          ]
        }
      ],
      "source": [
        "print(\"Baker Service Time Begins : {}\".format(arr[\"Baker ST Begins\"]))\n",
        "print(\"Baker Service Time : {}\".format(arr[\"Baker ST\"]))\n",
        "print(\"Baker Service Time Ends : {}\".format(arr[\"Baker ST Ends\"]))"
      ],
      "id": "jIesxRqWGp3n"
    },
    {
      "cell_type": "code",
      "execution_count": 7,
      "metadata": {
        "colab": {
          "base_uri": "https://localhost:8080/"
        },
        "id": "RN8qPk9LGp3q",
        "outputId": "cc28fff6-1445-4ffb-cfb5-5e022ce8ce28"
      },
      "outputs": [
        {
          "output_type": "stream",
          "name": "stdout",
          "text": [
            "Able Service Time Begins : []\n",
            "Able Service Time : []\n",
            "Able Service Time Ends : []\n"
          ]
        }
      ],
      "source": [
        "print(\"Able Service Time Begins : {}\".format(arr[\"Able ST Begins\"]))\n",
        "print(\"Able Service Time : {}\".format(arr[\"Able ST\"]))\n",
        "print(\"Able Service Time Ends : {}\".format(arr[\"Able ST Ends\"]))"
      ],
      "id": "RN8qPk9LGp3q"
    },
    {
      "cell_type": "code",
      "execution_count": 8,
      "metadata": {
        "colab": {
          "base_uri": "https://localhost:8080/"
        },
        "id": "AAHVP52uGp3s",
        "outputId": "7f4733ae-3b50-4db4-c839-ff20b2f303e4"
      },
      "outputs": [
        {
          "output_type": "stream",
          "name": "stdout",
          "text": [
            "Percentage for Able's Busy is 0.0%\n"
          ]
        }
      ],
      "source": [
        "AbleBusyPr = round((sum(arr[\"Able ST\"])) / (arr[\"Clock\"][-2]) * 100,2)\n",
        "print(\"Percentage for Able's Busy is {}%\".format(AbleBusyPr))"
      ],
      "id": "AAHVP52uGp3s"
    },
    {
      "cell_type": "code",
      "execution_count": 9,
      "metadata": {
        "colab": {
          "base_uri": "https://localhost:8080/"
        },
        "id": "GYYx7nNKGp3t",
        "outputId": "eebd5fb0-90a0-40f8-de94-c179f28d6a67"
      },
      "outputs": [
        {
          "output_type": "stream",
          "name": "stdout",
          "text": [
            "Average Waiting Time is 15.090909090909092 minutes\n"
          ]
        }
      ],
      "source": [
        "WaitingTime = sum(arr[\"Queuing\"]) / np.count_nonzero(arr[\"Queuing\"])\n",
        "print(\"Average Waiting Time is {} minutes\".format(WaitingTime))"
      ],
      "id": "GYYx7nNKGp3t"
    },
    {
      "cell_type": "code",
      "execution_count": 9,
      "metadata": {
        "id": "lq-o1yddGp3u"
      },
      "outputs": [],
      "source": [],
      "id": "lq-o1yddGp3u"
    }
  ],
  "metadata": {
    "kernelspec": {
      "display_name": "Python 3",
      "language": "python",
      "name": "python3"
    },
    "language_info": {
      "codemirror_mode": {
        "name": "ipython",
        "version": 3
      },
      "file_extension": ".py",
      "mimetype": "text/x-python",
      "name": "python",
      "nbconvert_exporter": "python",
      "pygments_lexer": "ipython3",
      "version": "3.8.3"
    },
    "colab": {
      "provenance": []
    }
  },
  "nbformat": 4,
  "nbformat_minor": 5
}