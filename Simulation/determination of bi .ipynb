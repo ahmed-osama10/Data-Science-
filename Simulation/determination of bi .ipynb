{
  "nbformat": 4,
  "nbformat_minor": 0,
  "metadata": {
    "colab": {
      "provenance": []
    },
    "kernelspec": {
      "name": "python3",
      "display_name": "Python 3"
    },
    "language_info": {
      "name": "python"
    }
  },
  "cells": [
    {
      "cell_type": "code",
      "execution_count": 16,
      "metadata": {
        "colab": {
          "base_uri": "https://localhost:8080/"
        },
        "id": "COxP1peD1rAf",
        "outputId": "6c819286-54f3-4fee-ae9c-6f5686af0bf3"
      },
      "outputs": [
        {
          "output_type": "stream",
          "name": "stdout",
          "text": [
            "RN'S OF X =  0.04821430003322913\n",
            "RN'S OF Y =  -0.569803739036318\n",
            "Final Estimation of Pi =  3.1\n"
          ]
        }
      ],
      "source": [
        "# determination of bi \n",
        "#Area of circle = Ï€r 2 , Let us consider a quadrant of unit circle ,Area of the quadrant is( Ï€r 2/4) = Ï€/4\n",
        "import random\n",
        "circle_points = 0\n",
        "square_points = 0\n",
        "\n",
        "# Total Random numbers generated= possible x\n",
        "# values* possible y values\n",
        "for i in range(40):\n",
        "\n",
        "\t# Randomly generated x and y values from a\n",
        "\t# uniform distribution\n",
        "\t# Range of x and y values is -1 to 1\n",
        "\trand_x = random.uniform(-1, 1)\n",
        "\trand_y = random.uniform(-1, 1)\n",
        "\n",
        "\t# Distance between (x, y) from the origin\n",
        "\torigin_dist = rand_x**2 + rand_y**2\n",
        "\t# Checking if (x, y) lies inside the circle\n",
        "\tif origin_dist <= 1:\n",
        "\t\tcircle_points += 1\n",
        "\n",
        "\tsquare_points += 1\n",
        "\n",
        "\t# Estimating value of pi,\n",
        "\t# pi= 4*(no. of points generated inside the\n",
        "\t# circle)/ (no. of points generated inside the square)\n",
        "\tpi = 4 * circle_points / square_points\n",
        "\n",
        "## print(rand_x, rand_y, circle_points, square_points, \"-\", pi)\n",
        "# print(\"\\n\")\n",
        "print(\"RN'S OF X = \",rand_x)\n",
        "print(\"RN'S OF Y = \",rand_y)\n",
        "print(\"Final Estimation of Pi = \", pi)\n",
        "\n"
      ]
    }
  ]
}