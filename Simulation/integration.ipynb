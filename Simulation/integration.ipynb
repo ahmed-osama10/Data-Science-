{
  "nbformat": 4,
  "nbformat_minor": 0,
  "metadata": {
    "colab": {
      "provenance": []
    },
    "kernelspec": {
      "name": "python3",
      "display_name": "Python 3"
    },
    "language_info": {
      "name": "python"
    }
  },
  "cells": [
    {
      "cell_type": "code",
      "execution_count": 6,
      "metadata": {
        "colab": {
          "base_uri": "https://localhost:8080/"
        },
        "id": "dzP-XlL4UAb3",
        "outputId": "625bb075-3792-4a3e-812f-36b95e555a4a"
      },
      "outputs": [
        {
          "output_type": "stream",
          "name": "stdout",
          "text": [
            "Enter number of Iterations: 20\n",
            "Random Number for X:  22  X Coordinate:  2.2  Random Number of Y:  0.57  Y Coordinate:  79.8  X^3:  10.65  M:  0  N:  1\n",
            "Random Number for X:  25  X Coordinate:  2.5  Random Number of Y:  0.18  Y Coordinate:  25.2  X^3:  15.62  M:  0  N:  2\n",
            "Random Number for X:  28  X Coordinate:  2.8  Random Number of Y:  0.0  Y Coordinate:  0.0  X^3:  21.95  M:  1  N:  3\n",
            "Random Number for X:  45  X Coordinate:  4.5  Random Number of Y:  0.9  Y Coordinate:  126.0  X^3:  91.12  M:  1  N:  4\n",
            "Random Number for X:  25  X Coordinate:  2.5  Random Number of Y:  0.05  Y Coordinate:  7.0  X^3:  15.62  M:  2  N:  5\n",
            "Random Number for X:  27  X Coordinate:  2.7  Random Number of Y:  0.77  Y Coordinate:  107.8  X^3:  19.68  M:  2  N:  6\n",
            "Random Number for X:  48  X Coordinate:  4.8  Random Number of Y:  0.66  Y Coordinate:  92.4  X^3:  110.59  M:  3  N:  7\n",
            "Random Number for X:  43  X Coordinate:  4.3  Random Number of Y:  0.1  Y Coordinate:  14.0  X^3:  79.51  M:  4  N:  8\n",
            "Random Number for X:  40  X Coordinate:  4.0  Random Number of Y:  0.76  Y Coordinate:  106.4  X^3:  64.0  M:  4  N:  9\n",
            "Random Number for X:  47  X Coordinate:  4.7  Random Number of Y:  0.42  Y Coordinate:  58.8  X^3:  103.82  M:  5  N:  10\n",
            "Random Number for X:  38  X Coordinate:  3.8  Random Number of Y:  0.78  Y Coordinate:  109.2  X^3:  54.87  M:  5  N:  11\n",
            "Random Number for X:  33  X Coordinate:  3.3  Random Number of Y:  0.88  Y Coordinate:  123.2  X^3:  35.94  M:  5  N:  12\n",
            "Random Number for X:  24  X Coordinate:  2.4  Random Number of Y:  0.03  Y Coordinate:  4.2  X^3:  13.82  M:  6  N:  13\n",
            "Random Number for X:  47  X Coordinate:  4.7  Random Number of Y:  0.09  Y Coordinate:  12.6  X^3:  103.82  M:  7  N:  14\n",
            "Random Number for X:  42  X Coordinate:  4.2  Random Number of Y:  0.77  Y Coordinate:  107.8  X^3:  74.09  M:  7  N:  15\n",
            "Random Number for X:  25  X Coordinate:  2.5  Random Number of Y:  0.61  Y Coordinate:  85.4  X^3:  15.62  M:  7  N:  16\n",
            "Random Number for X:  33  X Coordinate:  3.3  Random Number of Y:  0.27  Y Coordinate:  37.8  X^3:  35.94  M:  7  N:  17\n",
            "Random Number for X:  50  X Coordinate:  5.0  Random Number of Y:  0.6  Y Coordinate:  84.0  X^3:  125.0  M:  8  N:  18\n",
            "Random Number for X:  34  X Coordinate:  3.4  Random Number of Y:  0.29  Y Coordinate:  40.6  X^3:  39.3  M:  8  N:  19\n",
            "Random Number for X:  21  X Coordinate:  2.1  Random Number of Y:  0.4  Y Coordinate:  56.0  X^3:  9.26  M:  8  N:  20\n",
            "------------------------------------------------------------------------------------------------------------------------\n",
            "The real value of the integral =  152.25\n",
            "I = A * M / N =  168.0\n"
          ]
        }
      ],
      "source": [
        "import sympy as smp\n",
        "\n",
        "# x random numbers from 2 to 5 so should multiply them in 0.1 to be x coordinates \n",
        "# y random numbers from 0 to 100 so should max of them be 140 to be y coordinates \n",
        "\n",
        "\n",
        "random_numbers = [22, 57, 25, 18, 28, 0, 45, 90, 25, 5, 27, 77, 48, 66, 43, 10, 40, 76, 47, 42, 38, 78, 33, 88, 24, 3,\n",
        "                  47, 9, 42, 77, 25, 61, 33, 27, 50, 60, 34, 29, 21, 40]\n",
        "\n",
        "# if i want to take random numbers form user i should use this function                   \n",
        "# random_numbers = list(map(int, input(\"Enter Random Numbers: \").split()))\n",
        "# print(random_numbers)\n",
        "\n",
        "#the user should give the program iterations for example 20 iteration like lecture \n",
        "iterations = int(input('Enter number of Iterations: '))\n",
        "#points under the curve x1 =2 , x2 =5\n",
        "#points side the curve y1 =0 , y2 =140 \n",
        "x1 = 2\n",
        "x2 = 5\n",
        "\n",
        "y1 = 0\n",
        "y2 = 140\n",
        "\n",
        "#the area of rectangle = 3*140 = 420 \n",
        "Area = (x1 - x2) * (y1 - y2)\n",
        "\n",
        "\n",
        "M = 0 # area under the curve , area for irregular shape \n",
        "N = 0  # area of rectangle \n",
        "\n",
        "x_coordinate = 0\n",
        "y_coordinate = 0\n",
        "xpower3 = 0\n",
        "\n",
        "\n",
        "def polynomial(x: [ int, float ]) :\n",
        "    \"\"\"Return x to the power of 3\"\"\"\n",
        "    return x ** 3\n",
        "\n",
        "\n",
        "j = 0\n",
        "\n",
        "for i in range(iterations):\n",
        "    # print(\"x : \", i, \" , X^3 : \", polynomial(i))\n",
        "    # print((random_numbers[j] >= x1 * 10))\n",
        "    # print(random_numbers[j] <= x2 * 10)\n",
        "    if (random_numbers[j] >= x1 * 10) and (random_numbers[j] <= x2 * 10):\n",
        "        x_coordinate = round(random_numbers[j] * 0.1, 2)  # X coordinate = RN1 * 0.1 , round function give me numbers with 2 decimal after point \n",
        "    else:\n",
        "        print(f\"Random number of x: {random_numbers[j]} not in range (20,50)\") \n",
        "        break\n",
        "\n",
        "    j += 1\n",
        "    y_coordinate = round(random_numbers[j] * 0.01 * (y2 - y1), 2) # Y coordinate = RN2 *0.01 *140 \n",
        "    xpower3 = round(polynomial(x_coordinate), 2)\n",
        "    if y_coordinate <= xpower3:\n",
        "        M += 1\n",
        "    N += 1\n",
        "    print(\"Random Number for X: \", round(random_numbers[j - 1], 2), \" X Coordinate: \", x_coordinate,\n",
        "          \" Random Number of Y: \",\n",
        "          round(random_numbers[j] * 0.01, 2), \" Y Coordinate: \", y_coordinate, \" X^3: \", xpower3,\n",
        "          \" M: \", M, \" N: \", N)\n",
        "    j += 1\n",
        "\n",
        "# Calculate Integration Value using Monte Carlo\n",
        "MonteCarlo_Value = (M / N) * Area\n",
        "\n",
        "# Calculate Exact Integration value I = integration from 2 to 5 with X^3 .dx \n",
        "exact_integration = smp.integrate(smp.Symbol(\"x\") ** 3, (smp.Symbol(\"x\"), 2, 5))\n",
        "exact_integration = float(exact_integration)\n",
        "\n",
        "print(\"-\" * 120)\n",
        "print(\"The real value of the integral = \", exact_integration)\n",
        "print(\"I = A * M / N = \", MonteCarlo_Value)"
      ]
    }
  ]
}