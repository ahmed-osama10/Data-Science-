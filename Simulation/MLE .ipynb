{
  "nbformat": 4,
  "nbformat_minor": 0,
  "metadata": {
    "colab": {
      "provenance": []
    },
    "kernelspec": {
      "name": "python3",
      "display_name": "Python 3"
    },
    "language_info": {
      "name": "python"
    }
  },
  "cells": [
    {
      "cell_type": "code",
      "source": [
        "#Assumes a binomial distributions \n",
        "#Estimates their parameters from the sample such that the resulting parameters give rise to the maximal\n",
        "#likelihood highest probability or density of obtaining the sample\n",
        "# p(x,n ا P ) Binomial distribution "
      ],
      "metadata": {
        "id": "ooCVoW0yv4z-"
      },
      "execution_count": 2,
      "outputs": []
    },
    {
      "cell_type": "code",
      "execution_count": 3,
      "metadata": {
        "colab": {
          "base_uri": "https://localhost:8080/"
        },
        "id": "QXoC1Aj63uuh",
        "outputId": "8e371cc0-0546-4be3-ebbd-6a9fbd7ac7e9"
      },
      "outputs": [
        {
          "output_type": "stream",
          "name": "stdout",
          "text": [
            "1.7.3\n"
          ]
        }
      ],
      "source": [
        "import scipy\n",
        "\n",
        "print(scipy.__version__)"
      ]
    },
    {
      "cell_type": "code",
      "source": [
        "from scipy import stats\n"
      ],
      "metadata": {
        "id": "ZINZsrVr39Cc"
      },
      "execution_count": 4,
      "outputs": []
    },
    {
      "cell_type": "code",
      "source": [
        "#Calculate exact binomial distributions with inaccurate P value\n",
        "# p is the  probability of picking 4 of all 7 orange \n",
        "print(stats.binom.pmf(4,7,0.5))\n",
        "print(stats.binom.pmf(4,7,0.25))\n",
        "# not correct results because p is not accurate \n",
        "# p = 4/7 = 0.57 \n",
        "print(round(stats.binom.pmf(4,7,0.5), 3))\n",
        "print(round(stats.binom.pmf(4,7,0.25), 3))\n"
      ],
      "metadata": {
        "colab": {
          "base_uri": "https://localhost:8080/"
        },
        "id": "4wQrs6KV4TNs",
        "outputId": "66153cb4-e1fd-4f6b-8e42-d4529ab839d5"
      },
      "execution_count": 7,
      "outputs": [
        {
          "output_type": "stream",
          "name": "stdout",
          "text": [
            "0.27343749999999983\n",
            "0.05767822265624997\n",
            "0.273\n",
            "0.058\n"
          ]
        }
      ]
    },
    {
      "cell_type": "code",
      "source": [
        "# L (0.57 given (4,7))\n",
        "# create matrix form 1 to 100 , find where max value then this is MLE \n",
        "seq=[]\n",
        "for i in range(1,100):\n",
        "    seq.append(stats.binom.pmf(4,7,i/100))\n",
        "print(\" P That maximizes The likelihood estimator =\" , (seq.index(max(seq))+1)/100)\n",
        "print(\" The highest Possible probability to get one orange cans  =\", max(seq))\n",
        "print(\" The highest possible probability to get one orange cans = \" , round(max(seq), 3))"
      ],
      "metadata": {
        "colab": {
          "base_uri": "https://localhost:8080/"
        },
        "id": "4OVEcSok4d19",
        "outputId": "15051f42-5474-463e-b4ec-63c8cc7892f7"
      },
      "execution_count": 10,
      "outputs": [
        {
          "output_type": "stream",
          "name": "stdout",
          "text": [
            " P That maximizes The likelihood estimator = 0.57\n",
            " The highest Possible probability to get one orange cans  = 0.29374659002745007\n",
            " The highest possible probability to get one orange cans =  0.294\n"
          ]
        }
      ]
    }
  ]
}